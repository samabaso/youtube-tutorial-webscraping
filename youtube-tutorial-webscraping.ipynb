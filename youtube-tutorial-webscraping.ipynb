{
 "cells": [
  {
   "cell_type": "code",
   "execution_count": 22,
   "id": "56c9fee5",
   "metadata": {},
   "outputs": [],
   "source": [
    "from bs4 import BeautifulSoup\n",
    "import requests"
   ]
  },
  {
   "cell_type": "code",
   "execution_count": 23,
   "id": "723421ac",
   "metadata": {},
   "outputs": [
    {
     "name": "stdout",
     "output_type": "stream",
     "text": [
      "https://youtube.com/watch?v=z0gguhEmWiY\n"
     ]
    }
   ],
   "source": [
    "# scraping a weblink \n",
    "url = 'http://coreyms.com'\n",
    "source = requests.get(url).text\n",
    "soup = BeautifulSoup(source, 'lxml')\n",
    "vid_src = article.find('iframe', class_='youtube-player')['src']\n",
    "vid_id = vid_src.split('/')[4]\n",
    "vid_id = vid_id.split('?')[0]\n",
    "yt_link = f'https://youtube.com/watch?v={vid_id}'\n",
    "print(yt_link)\n",
    "\n"
   ]
  },
  {
   "cell_type": "code",
   "execution_count": 86,
   "id": "e5ed9d4e",
   "metadata": {
    "scrolled": true
   },
   "outputs": [
    {
     "name": "stdout",
     "output_type": "stream",
     "text": [
      "Nelson Rolihlahla Mandela (born Rolihlahla Mandela ;[1] Xhosa: [xolíɬaɬa mandɛ̂ːla]; 18 July 1918 – 5 December 2013) was a South African anti-apartheid revolutionary, statesman and philanthropist who served as the first president of South Africa from 1994 to 1999. He was the country's first black head of state and the first elected in a fully representative democratic election. His government focused on dismantling the legacy of apartheid by tackling institutionalised racism and fostering racial reconciliation. Ideologically an African nationalist and socialist, he served as the president of the African National Congress (ANC) party from 1991 to 1997.\n",
      "\n"
     ]
    }
   ],
   "source": [
    "# scraping a paragraph from      \n",
    "url = 'https://en.m.wikipedia.org/wiki/Nelson_Mandela'\n",
    "source = requests.get(url).text\n",
    "soup = BeautifulSoup(source, 'lxml')\n",
    "content = soup.find('section', class_='mf-section-0')\n",
    "content_doc = content.find_all('p')[1]\n",
    "content_doc.span.decompose()\n",
    "print(content_doc.text)"
   ]
  },
  {
   "cell_type": "code",
   "execution_count": null,
   "id": "ebec4563",
   "metadata": {},
   "outputs": [],
   "source": []
  }
 ],
 "metadata": {
  "kernelspec": {
   "display_name": "Python 3 (ipykernel)",
   "language": "python",
   "name": "python3"
  },
  "language_info": {
   "codemirror_mode": {
    "name": "ipython",
    "version": 3
   },
   "file_extension": ".py",
   "mimetype": "text/x-python",
   "name": "python",
   "nbconvert_exporter": "python",
   "pygments_lexer": "ipython3",
   "version": "3.9.7"
  }
 },
 "nbformat": 4,
 "nbformat_minor": 5
}
